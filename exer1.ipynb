{
  "nbformat": 4,
  "nbformat_minor": 0,
  "metadata": {
    "colab": {
      "name": "exer1.ipynb",
      "provenance": [],
      "authorship_tag": "ABX9TyP6Zjrfj1NscVKC6ZqXH7Ff",
      "include_colab_link": true
    },
    "kernelspec": {
      "name": "python3",
      "display_name": "Python 3"
    },
    "language_info": {
      "name": "python"
    }
  },
  "cells": [
    {
      "cell_type": "markdown",
      "metadata": {
        "id": "view-in-github",
        "colab_type": "text"
      },
      "source": [
        "<a href=\"https://colab.research.google.com/github/ManatoYamaguchi/Numerical-analysis2/blob/main/exer1.ipynb\" target=\"_parent\"><img src=\"https://colab.research.google.com/assets/colab-badge.svg\" alt=\"Open In Colab\"/></a>"
      ]
    },
    {
      "cell_type": "code",
      "metadata": {
        "colab": {
          "base_uri": "https://localhost:8080/"
        },
        "id": "tMR9fwbsvf4f",
        "outputId": "d138c0b0-6e3f-4f06-ed08-00b68761fc22"
      },
      "source": [
        "from math import pi\n",
        "\n",
        "r = float(input())\n",
        "s = r * r * pi\n",
        "\n",
        "print(s)"
      ],
      "execution_count": 5,
      "outputs": [
        {
          "output_type": "stream",
          "text": [
            "1\n",
            "3.141592653589793\n"
          ],
          "name": "stdout"
        }
      ]
    },
    {
      "cell_type": "code",
      "metadata": {
        "colab": {
          "base_uri": "https://localhost:8080/"
        },
        "id": "-XzTnBlOATFp",
        "outputId": "caaa9fdd-c1d3-43e5-f21f-0e843710164d"
      },
      "source": [
        "weight = float(input(\"体重を入力してください[kg]\\n\"))\n",
        "height = float(input(\"身長を入力してください[cm]\\n\"))\n",
        "\n",
        "bmi = weight / (height * height) * 10000\n",
        "\n",
        "print(\"BMI\",bmi)"
      ],
      "execution_count": 9,
      "outputs": [
        {
          "output_type": "stream",
          "text": [
            "体重を入力してください[kg]\n",
            "43\n",
            "身長を入力してください[cm]\n",
            "165\n",
            "BMI 15.794306703397613\n"
          ],
          "name": "stdout"
        }
      ]
    },
    {
      "cell_type": "code",
      "metadata": {
        "id": "R-rDyzYpDsSG"
      },
      "source": [
        ""
      ],
      "execution_count": null,
      "outputs": []
    }
  ]
}